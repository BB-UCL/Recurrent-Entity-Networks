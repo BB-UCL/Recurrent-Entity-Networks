{
 "cells": [
  {
   "cell_type": "code",
   "execution_count": 1,
   "metadata": {
    "collapsed": false,
    "deletable": true,
    "editable": true
   },
   "outputs": [
    {
     "name": "stderr",
     "output_type": "stream",
     "text": [
      "/usr/local/lib/python2.7/site-packages/theano/tensor/signal/downsample.py:6: UserWarning: downsample module has been moved to the theano.tensor.signal.pool module.\n",
      "  \"downsample module has been moved to the theano.tensor.signal.pool module.\")\n"
     ]
    }
   ],
   "source": [
    "from REN import Model\n",
    "import numpy as np\n",
    "import cPickle\n",
    "import theano"
   ]
  },
  {
   "cell_type": "code",
   "execution_count": 8,
   "metadata": {
    "collapsed": false,
    "deletable": true,
    "editable": true
   },
   "outputs": [],
   "source": [
    "train_data = np.load('Data/Train/qa1_single-supporting-fact_train.npz')\n",
    "test_data = extract_stories(np.load('Data/Test/qa1_single-supporting-fact_test.npz'))"
   ]
  },
  {
   "cell_type": "code",
   "execution_count": 9,
   "metadata": {
    "collapsed": false,
    "deletable": true,
    "editable": true
   },
   "outputs": [],
   "source": [
    "def extract_stories(data):\n",
    "    return data['stories'], data['queries'], data['indices'], data['answers']"
   ]
  },
  {
   "cell_type": "code",
   "execution_count": 10,
   "metadata": {
    "collapsed": false,
    "deletable": true,
    "editable": true
   },
   "outputs": [],
   "source": [
    "params = {'embeding_dimension': 100,\n",
    "          'num_slots': 20,\n",
    "          'init_learning_rate': 0.01,\n",
    "          'num_epochs': 20,\n",
    "          'vocab_size': 160,\n",
    "          'batch_size': 32,\n",
    "          'max_sent_len': 7}\n",
    "\n",
    "params['max_sent_len'] = max(np.shape(train_data['stories'])[2],\n",
    "                                 np.shape(train_data['queries'])[2])\n",
    "\n",
    "Ent_Net = Model.EntityNetwork(params['embeding_dimension'],\n",
    "                              params['vocab_size'],\n",
    "                              params['num_slots'],\n",
    "                              params['max_sent_len'])"
   ]
  },
  {
   "cell_type": "code",
   "execution_count": 11,
   "metadata": {
    "collapsed": false,
    "deletable": true,
    "editable": true
   },
   "outputs": [
    {
     "data": {
      "text/plain": [
       "array(0.0)"
      ]
     },
     "execution_count": 11,
     "metadata": {},
     "output_type": "execute_result"
    }
   ],
   "source": [
    "test_loss, test_accuracy = Ent_Net.test_network(*test_data)\n",
    "test_accuracy"
   ]
  },
  {
   "cell_type": "code",
   "execution_count": 18,
   "metadata": {
    "collapsed": false,
    "deletable": true,
    "editable": true
   },
   "outputs": [],
   "source": [
    "f = open('Results/model2.save')\n",
    "trained = cPickle.load(f)\n",
    "f.close()"
   ]
  },
  {
   "cell_type": "code",
   "execution_count": 19,
   "metadata": {
    "collapsed": false,
    "deletable": true,
    "editable": true
   },
   "outputs": [],
   "source": [
    "Ent_Net._create_network(trained)"
   ]
  },
  {
   "cell_type": "code",
   "execution_count": 20,
   "metadata": {
    "collapsed": false,
    "deletable": true,
    "editable": true
   },
   "outputs": [
    {
     "data": {
      "text/plain": [
       "array(0.183)"
      ]
     },
     "execution_count": 20,
     "metadata": {},
     "output_type": "execute_result"
    }
   ],
   "source": [
    "test_loss, test_accuracy = Ent_Net.test_network(*test_data)\n",
    "test_accuracy"
   ]
  },
  {
   "cell_type": "code",
   "execution_count": 10,
   "metadata": {
    "collapsed": false,
    "deletable": true,
    "editable": true
   },
   "outputs": [],
   "source": [
    "import numpy as np\n",
    "from REN import Model\n",
    "from six.moves import cPickle\n",
    "import time\n",
    "\n",
    "params = {'embeding_dimension': 100,\n",
    "          'num_slots': 20,\n",
    "          'init_learning_rate': 0.01,\n",
    "          'num_epochs': 1,\n",
    "          'vocab_size': 160,\n",
    "          'batch_size': 32}\n",
    "\n",
    "\n",
    "def train(path_to_train, path_to_test, params):\n",
    "\n",
    "    train_data = np.load(path_to_train)  # npz file obj\n",
    "    test_data = extract_stories(np.load(path_to_test))\n",
    "\n",
    "\n",
    "    params['max_sent_len'] = max(np.shape(train_data['stories'])[2],\n",
    "                                 np.shape(train_data['queries'])[2])\n",
    "\n",
    "    Ent_Net = Model.EntityNetwork(params['embeding_dimension'],\n",
    "                                  params['vocab_size'],\n",
    "                                  params['num_slots'],\n",
    "                                  params['max_sent_len'])\n",
    "\n",
    "    loss = 0.0\n",
    "    print('loss training_accuracy       test_loss   test_accuracy')\n",
    "    for i in range(params['num_epochs']):\n",
    "        for n,batch in enumerate(get_batch(train_data, params['batch_size'])):\n",
    "            batch_loss, accuracy = Ent_Net.train_batch(*batch)\n",
    "            loss = loss + (batch_loss - loss)/(params['batch_size']*1.0)\n",
    "            if n%10 ==0:\n",
    "                test_loss, test_accuracy = Ent_Net.test_network(*test_data)\n",
    "                print('{}   {}  {}  {}').format(batch_loss, accuracy,\n",
    "                                                test_loss, test_accuracy)\n",
    "\n",
    "\n",
    "    f = open('Results/model4.save', 'wb')\n",
    "    cPickle.dump(Ent_Net.params, f, protocol=cPickle.HIGHEST_PROTOCOL)\n",
    "    f.close()\n",
    "    \n",
    "    return Ent_Net, test_data\n",
    "\n",
    "def get_batch(data, batch_size):\n",
    "    stories, queries, indices , answers = extract_stories(data)\n",
    "    N = np.shape(stories)[0]\n",
    "    all_indices = np.random.permutation(N)\n",
    "    for i in range(N/batch_size):\n",
    "        batch_ind = all_indices[i:i + batch_size]\n",
    "        yield stories[batch_ind], queries[batch_ind], indices[batch_ind] , answers[batch_ind]\n",
    "\n",
    "def extract_stories(data):\n",
    "    return data['stories'], data['queries'], data['indices'], data['answers']\n",
    "\n",
    "\n"
   ]
  },
  {
   "cell_type": "code",
   "execution_count": 11,
   "metadata": {
    "collapsed": false
   },
   "outputs": [
    {
     "name": "stdout",
     "output_type": "stream",
     "text": [
      "loss training_accuracy       test_loss   test_accuracy\n",
      "5.17013618421   0.0  5.05509395707  0.0\n",
      "4.07133330685   0.14375  3.9839906392  0.181\n",
      "3.06549130317   0.15625  2.9850863593  0.196\n",
      "2.26393610031   0.15625  2.21094533498  0.209\n",
      "1.89158359536   0.21875  1.90355492946  0.237\n",
      "1.7714213035   0.375  1.80813878324  0.347\n",
      "1.68670251151   0.45  1.70544765379  0.46\n"
     ]
    }
   ],
   "source": [
    "Ent_Net, test_data = train('Data/Train/qa1_single-supporting-fact_train.npz',\n",
    "          'Data/Test/qa1_single-supporting-fact_test.npz', params)"
   ]
  },
  {
   "cell_type": "code",
   "execution_count": 12,
   "metadata": {
    "collapsed": false
   },
   "outputs": [],
   "source": [
    "test_loss, test_accuracy = Ent_Net.test_network(*test_data)"
   ]
  },
  {
   "cell_type": "code",
   "execution_count": 13,
   "metadata": {
    "collapsed": false
   },
   "outputs": [
    {
     "data": {
      "text/plain": [
       "array(0.46)"
      ]
     },
     "execution_count": 13,
     "metadata": {},
     "output_type": "execute_result"
    }
   ],
   "source": [
    "test_accuracy"
   ]
  },
  {
   "cell_type": "code",
   "execution_count": null,
   "metadata": {
    "collapsed": false
   },
   "outputs": [],
   "source": []
  },
  {
   "cell_type": "code",
   "execution_count": null,
   "metadata": {
    "collapsed": true
   },
   "outputs": [],
   "source": []
  }
 ],
 "metadata": {
  "kernelspec": {
   "display_name": "Python 2",
   "language": "python",
   "name": "python2"
  },
  "language_info": {
   "codemirror_mode": {
    "name": "ipython",
    "version": 2
   },
   "file_extension": ".py",
   "mimetype": "text/x-python",
   "name": "python",
   "nbconvert_exporter": "python",
   "pygments_lexer": "ipython2",
   "version": "2.7.10"
  }
 },
 "nbformat": 4,
 "nbformat_minor": 0
}
